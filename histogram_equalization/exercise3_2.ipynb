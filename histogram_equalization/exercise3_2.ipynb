{
 "cells": [
  {
   "cell_type": "code",
   "execution_count": 5,
   "metadata": {},
   "outputs": [
    {
     "data": {
      "text/plain": [
       "True"
      ]
     },
     "execution_count": 5,
     "metadata": {},
     "output_type": "execute_result"
    }
   ],
   "source": [
    "import numpy as np\n",
    "import cv2\n",
    "\n",
    "def equalize_histgram(img):\n",
    "    \n",
    "    #画像の高さと幅\n",
    "    h, w = img.shape[0], img.shape[1]\n",
    "    \n",
    "    #全ての画素数\n",
    "    s = w * h\n",
    "    \n",
    "    #最大の画素値\n",
    "    pixmax = img.max()\n",
    "    \n",
    "    hist, bins = np.histogram(img.ravel(),256,[0,256])\n",
    "    \n",
    "    new = np.empty((h,w))\n",
    "    \n",
    "    for y in range(0, h):\n",
    "        for x in range(0, w):\n",
    "            # ヒストグラム平均化の計算式\n",
    "            new[y][x] = np.sum(hist[0: img[y][x]]) * (pixmax / s)\n",
    "\n",
    "    return new\n",
    "\n",
    "img = cv2.imread('pollen-lowcontrast.tif')\n",
    "gray = cv2.cvtColor(img, cv2.COLOR_RGB2GRAY)\n",
    "new = equalize_histgram(gray)\n",
    "cv2.imwrite(\"/Users/n.s/Desktop/lec3/3-2/eh.jpg\", new)"
   ]
  },
  {
   "cell_type": "code",
   "execution_count": null,
   "metadata": {},
   "outputs": [],
   "source": []
  }
 ],
 "metadata": {
  "kernelspec": {
   "display_name": "Python 3",
   "language": "python",
   "name": "python3"
  },
  "language_info": {
   "codemirror_mode": {
    "name": "ipython",
    "version": 3
   },
   "file_extension": ".py",
   "mimetype": "text/x-python",
   "name": "python",
   "nbconvert_exporter": "python",
   "pygments_lexer": "ipython3",
   "version": "3.7.9"
  }
 },
 "nbformat": 4,
 "nbformat_minor": 4
}
