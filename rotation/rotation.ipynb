{
 "cells": [
  {
   "cell_type": "code",
   "execution_count": 32,
   "metadata": {},
   "outputs": [],
   "source": [
    "import numpy as np\n",
    "import math\n",
    "from PIL import Image\n",
    "\n",
    "def rotation_matrix(a):\n",
    "    C1 = WID[0]/2\n",
    "    C2 = WID[1]/2\n",
    "    \n",
    "    si = np.sin(math.radians(a))\n",
    "    co = np.cos(math.radians(a))\n",
    "    \n",
    "    return np.array([[co, -si, C1 - C1*co + C2*si],\n",
    "                     [si,  co, C2 - C1*si - C2*co],\n",
    "                     [ 0,   0,                  1]])\n",
    "\n",
    "def rotation(im1, im2, angle):\n",
    "    for x in range(WID[0]):\n",
    "        for y in range(WID[1]):\n",
    "            \n",
    "            r, g, b = im1.getpixel((x, y))\n",
    "            \n",
    "            p = np.array([[x], [y], [1]])\n",
    "            transp = np.dot(rotation_matrix(angle), p)\n",
    "            \n",
    "            x2 = int(transp[0, 0])\n",
    "            y2 = int(transp[1, 0])\n",
    "            \n",
    "            if 0 < x2 < WID[0] and 0 < y2 < WID[1]:\n",
    "                im2.putpixel((x2, y2), (r, g, b))\n",
    "                \n",
    "\n",
    "if __name__ == '__main__':\n",
    "    img = Image.open('Mandrill.png')\n",
    "    WID = img.size\n",
    "    rgb_img = img.convert('RGB')\n",
    "    img2 = Image.new('RGBA', WID)\n",
    "\n",
    "    rotation(rgb_img, img2,38)\n",
    "    img2.show()"
   ]
  },
  {
   "cell_type": "code",
   "execution_count": null,
   "metadata": {},
   "outputs": [],
   "source": []
  },
  {
   "cell_type": "code",
   "execution_count": null,
   "metadata": {},
   "outputs": [],
   "source": []
  }
 ],
 "metadata": {
  "kernelspec": {
   "display_name": "Python 3",
   "language": "python",
   "name": "python3"
  },
  "language_info": {
   "codemirror_mode": {
    "name": "ipython",
    "version": 3
   },
   "file_extension": ".py",
   "mimetype": "text/x-python",
   "name": "python",
   "nbconvert_exporter": "python",
   "pygments_lexer": "ipython3",
   "version": "3.7.9"
  }
 },
 "nbformat": 4,
 "nbformat_minor": 4
}
