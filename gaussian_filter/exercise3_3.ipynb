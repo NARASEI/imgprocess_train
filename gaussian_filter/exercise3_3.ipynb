{
 "cells": [
  {
   "cell_type": "code",
   "execution_count": null,
   "metadata": {},
   "outputs": [],
   "source": [
    "import numpy as np\n",
    "import cv2\n",
    "\n",
    "def gaussianFilter(img,k,s):\n",
    "    w,h,c = img.shape\n",
    "    size = k // 2\n",
    "\n",
    "    _img = np.zeros((w+2*size,h+2*size,c), dtype=np.uint8)\n",
    "    _img[size:size+w,size:size+h] = img.copy().astype(np.uint8)\n",
    "    dst = _img.copy()\n",
    "\n",
    "    ker = np.zeros((k,k), dtype=np.float)\n",
    "    for x in range(-1*size,k-size):\n",
    "        for y in range(-1*size,k-size):\n",
    "            ker[x+size,y+size] = (1/(2*np.pi*(s**2)))*np.exp(-1*(x**2+y**2)/(2*(s**2)))\n",
    "\n",
    "    ker /= ker.sum()\n",
    "\n",
    "    for x in range(w):\n",
    "        for y in range(h):\n",
    "            for z in range(c):\n",
    "                dst[x+size,y+size,z] = np.sum(ker*_img[x:x+k,y:y+k,z])\n",
    "\n",
    "    dst = dst[size:size+w,size:size+h].astype(np.uint8)\n",
    "\n",
    "    return dst\n",
    "\n",
    "\n",
    "\n",
    "img = cv2.imread('iris-RGB.tif')\n",
    "\n",
    "# 第2引数：フィルタサイズ、第3引数：標準偏差(σ)\n",
    "img = gaussianFilter(img,5,1)\n",
    "img = gaussianFilter(img,11,1)\n",
    "\n",
    "# 画像保存\n",
    "cv2.imwrite('/Users/n.s/Desktop/lec3/3-3/fg.jpg', img)"
   ]
  },
  {
   "cell_type": "code",
   "execution_count": null,
   "metadata": {},
   "outputs": [],
   "source": []
  }
 ],
 "metadata": {
  "kernelspec": {
   "display_name": "Python 3",
   "language": "python",
   "name": "python3"
  },
  "language_info": {
   "codemirror_mode": {
    "name": "ipython",
    "version": 3
   },
   "file_extension": ".py",
   "mimetype": "text/x-python",
   "name": "python",
   "nbconvert_exporter": "python",
   "pygments_lexer": "ipython3",
   "version": "3.7.9"
  }
 },
 "nbformat": 4,
 "nbformat_minor": 4
}
