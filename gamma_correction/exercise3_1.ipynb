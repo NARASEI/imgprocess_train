{
 "cells": [
  {
   "cell_type": "code",
   "execution_count": 28,
   "metadata": {},
   "outputs": [],
   "source": [
    "import numpy as np\n",
    "from PIL import Image\n",
    "\n",
    "def gamma_correction(gamma, img):\n",
    "    \n",
    "    WID = img.size\n",
    "    newimg = Image.new('RGB', WID)\n",
    "    newimg_gray = newimg.convert('L')\n",
    "    \n",
    "    for x in range(WID[0]):\n",
    "        for y in range(WID[1]):\n",
    "            \n",
    "            #ガンマ補正の計算\n",
    "            pixel = img.getpixel((x, y))\n",
    "            newpixel = 255 * (pixel / 255) ** (1 / gamma)\n",
    "            \n",
    "            #新しい画像の座標に当てはめる\n",
    "            newimg_gray.putpixel((x, y), (int(newpixel)))\n",
    "            \n",
    "    newimg_gray.show()\n",
    "    return\n",
    "    \n",
    "if __name__ == '__main__':\n",
    "\n",
    "    img = Image.open('spine.tif')\n",
    "    gamma_correction(1.6, img)\n",
    "    gamma_correction(2.4, img)\n"
   ]
  },
  {
   "cell_type": "code",
   "execution_count": null,
   "metadata": {},
   "outputs": [],
   "source": []
  },
  {
   "cell_type": "code",
   "execution_count": null,
   "metadata": {},
   "outputs": [],
   "source": []
  }
 ],
 "metadata": {
  "kernelspec": {
   "display_name": "Python 3",
   "language": "python",
   "name": "python3"
  },
  "language_info": {
   "codemirror_mode": {
    "name": "ipython",
    "version": 3
   },
   "file_extension": ".py",
   "mimetype": "text/x-python",
   "name": "python",
   "nbconvert_exporter": "python",
   "pygments_lexer": "ipython3",
   "version": "3.7.9"
  }
 },
 "nbformat": 4,
 "nbformat_minor": 4
}
