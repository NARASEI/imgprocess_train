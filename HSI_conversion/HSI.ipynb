{
 "cells": [
  {
   "cell_type": "code",
   "execution_count": 76,
   "metadata": {},
   "outputs": [
    {
     "data": {
      "text/plain": [
       "True"
      ]
     },
     "execution_count": 76,
     "metadata": {},
     "output_type": "execute_result"
    }
   ],
   "source": [
    "import numpy as np\n",
    "import cv2\n",
    "import math\n",
    "\n",
    "def hsi_rot(src, dec):\n",
    "    h, w, c = src.shape\n",
    "    dst = np.empty((h, w, c))\n",
    "    \n",
    "    for y in range(0, h):\n",
    "        for x in range(0, w):\n",
    "            \n",
    "            #normalization to the RGB range [0, 1]\n",
    "            [b, g, r] = src[y][x]/255.0\n",
    "            \n",
    "            rg = r - g\n",
    "            rb = r - b\n",
    "            gb = g - b\n",
    "            mn = min(r, g, b)\n",
    "            \n",
    "            #angle\n",
    "            if r == g == b:\n",
    "                ang = 0\n",
    "            else:\n",
    "                ang = math.degrees(math.acos((0.5 * (rg + rb)) / (rg ** 2 + rb * gb) ** 0.5))\n",
    "            \n",
    "            #Hue\n",
    "            if b <= g:\n",
    "                H = ang\n",
    "            elif b > g:\n",
    "                H = 360 - ang\n",
    "                \n",
    "            \n",
    "                \n",
    "            H = H + dec\n",
    "            \n",
    "            if H > 360:\n",
    "                H = H - 360\n",
    "            elif H < 0:\n",
    "                H = H + 360\n",
    "                \n",
    "            #Saturation\n",
    "            S = 1 - (3 * mn) / (r + g + b)\n",
    "            \n",
    "            #Intensity\n",
    "            I = (r + g + b) / 3\n",
    "            \n",
    "            dst[y][x] = [H, S, I]\n",
    "    \n",
    "    return dst\n",
    "\n",
    "\n",
    "def hsi_to_rgb(src):\n",
    "    h, w, c = src.shape\n",
    "    dst = np.empty((h, w, c))\n",
    "    \n",
    "    for y in range(0, h):\n",
    "        for x in range(0, w):\n",
    "            \n",
    "            [H, S, I] = src[y][x]\n",
    "            \n",
    "            H1 = H % 120\n",
    "            \n",
    "            C1 = I * (1 - S)\n",
    "            C2= I * (1 + (S * math.cos(math.radians(H1))/(math.cos(math.radians(60 - H1)))))\n",
    "            C3 = 3 * I - (C2 + C1)\n",
    "            \n",
    "            if H < 120:\n",
    "                B = C1\n",
    "                R = C2\n",
    "                G = C3\n",
    "            elif 120 <= H and H < 240:\n",
    "                R  = C1\n",
    "                G = C2\n",
    "                B = C3\n",
    "            elif 240 <= H:\n",
    "                G = C1\n",
    "                B = C2\n",
    "                R = C3\n",
    "            \n",
    "            dst[y][x] = [B * 255, G * 255, R * 255]\n",
    "    \n",
    "    return dst\n",
    "                          \n",
    "                          \n",
    "img = cv2.imread('Mandrill.bmp')\n",
    "HSI = hsi_rot(img, -45)\n",
    "rgb = hsi_to_rgb(HSI)\n",
    "cv2.imwrite(\"/Users/n.s/Desktop/lec6/RGB.jpg\", rgb)"
   ]
  },
  {
   "cell_type": "code",
   "execution_count": null,
   "metadata": {},
   "outputs": [],
   "source": []
  },
  {
   "cell_type": "code",
   "execution_count": null,
   "metadata": {},
   "outputs": [],
   "source": []
  },
  {
   "cell_type": "code",
   "execution_count": null,
   "metadata": {},
   "outputs": [],
   "source": []
  }
 ],
 "metadata": {
  "kernelspec": {
   "display_name": "Python 3",
   "language": "python",
   "name": "python3"
  },
  "language_info": {
   "codemirror_mode": {
    "name": "ipython",
    "version": 3
   },
   "file_extension": ".py",
   "mimetype": "text/x-python",
   "name": "python",
   "nbconvert_exporter": "python",
   "pygments_lexer": "ipython3",
   "version": "3.7.9"
  }
 },
 "nbformat": 4,
 "nbformat_minor": 4
}
