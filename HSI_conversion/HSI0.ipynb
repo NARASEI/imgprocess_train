{
 "cells": [
  {
   "cell_type": "code",
   "execution_count": 33,
   "metadata": {},
   "outputs": [
    {
     "name": "stderr",
     "output_type": "stream",
     "text": [
      "/opt/anaconda3/envs/imgprocessing_lec/lib/python3.7/site-packages/ipykernel_launcher.py:20: RuntimeWarning: invalid value encountered in double_scalars\n"
     ]
    },
    {
     "data": {
      "text/plain": [
       "True"
      ]
     },
     "execution_count": 33,
     "metadata": {},
     "output_type": "execute_result"
    }
   ],
   "source": [
    "import cv2\n",
    "import numpy as np\n",
    "\n",
    "\n",
    "def HSI(src):\n",
    "    \n",
    "    h, w, c = src.shape\n",
    "    dst = np.empty((h, w, c))\n",
    "    \n",
    "    for y in range(0, h):\n",
    "        for x in range(0, w):\n",
    "            [B, G, R] = src[y, x]/255\n",
    "            \n",
    "            MAX = max(B, G, R)\n",
    "            MIN = min(B, G, R)\n",
    "            diff = MAX - MIN\n",
    "            \n",
    "            #Hue\n",
    "            if MAX == B:\n",
    "                Hue = 60 * ((R - G) / diff) + 60\n",
    "            elif MAX == G:\n",
    "                Hue = 60 * ((B - R) / diff) + 240\n",
    "            elif MAX == R:\n",
    "                Hue = 60 * ((G - B) / diff) + 120\n",
    "            elif MAX == MIN:\n",
    "                Hue = 0\n",
    "                \n",
    "            if Hue < 0:\n",
    "                Hue = Hue + 360\n",
    "                  \n",
    "            #Saturation\n",
    "            if MAX != 0:\n",
    "                Saturation = diff / MAX\n",
    "            else:\n",
    "                Saturation = 0\n",
    "            \n",
    "            #Intensity\n",
    "            Intensity = MAX\n",
    "            \n",
    "            dst[y][x] = [Hue, Saturation * 255, Intensity * 255]\n",
    "            \n",
    "    return dst\n",
    "            \n",
    "\n",
    "def rotation(src, angle):\n",
    "    \n",
    "    h, w, c = src.shape\n",
    "    dst = np.empty((h, w, c))\n",
    "    \n",
    "    for y in range(0, h):\n",
    "        for x in range(0, w):\n",
    "            [H, S, I] = src[y, x]\n",
    "            \n",
    "            H = H + angle\n",
    "            \n",
    "            if H >= 360:\n",
    "                H = H % 360\n",
    "            \n",
    "            dst[y][x] = [H, S, I]\n",
    "            \n",
    "    return dst\n",
    "                \n",
    "img = cv2.imread('couple.bmp')\n",
    "hsi = HSI(img)\n",
    "hsi_rot = rotation(hsi, 0)\n",
    "cv2.imwrite(\"/Users/n.s/Desktop/lec6/try1.jpg\", hsi_rot)\n"
   ]
  },
  {
   "cell_type": "code",
   "execution_count": null,
   "metadata": {},
   "outputs": [],
   "source": []
  }
 ],
 "metadata": {
  "kernelspec": {
   "display_name": "Python 3",
   "language": "python",
   "name": "python3"
  },
  "language_info": {
   "codemirror_mode": {
    "name": "ipython",
    "version": 3
   },
   "file_extension": ".py",
   "mimetype": "text/x-python",
   "name": "python",
   "nbconvert_exporter": "python",
   "pygments_lexer": "ipython3",
   "version": "3.7.9"
  }
 },
 "nbformat": 4,
 "nbformat_minor": 4
}
