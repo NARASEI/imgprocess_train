{
 "cells": [
  {
   "cell_type": "code",
   "execution_count": null,
   "id": "committed-quest",
   "metadata": {},
   "outputs": [],
   "source": [
    "import cv2\n",
    "import numpy as np\n",
    "\n",
    "def makehide(src1, src2):\n",
    "\n",
    "    h, w= src1.shape\n",
    "    dst = np.empty((h, w))\n",
    "    \n",
    "    for y in range(0, h):\n",
    "        for x in range(0, w):\n",
    "            \n",
    "            pix1 = src1[y][x]\n",
    "            pix2 = src2[y][x]\n",
    "            \n",
    "            Fw = 4 * (pix1 / 4) + (pix2 / 64)\n",
    "            dst[y][x] = Fw\n",
    "            \n",
    "    return dst\n",
    "\n",
    "def gethide(src1, src2):\n",
    "    h, w= src1.shape\n",
    "    dst = np.empty((h, w))\n",
    "    \n",
    "    for y in range(0, h):\n",
    "        for x in range(0, w):\n",
    "            \n",
    "            pix1 = src1[y][x]\n",
    "            pix2 = src2[y][x]\n",
    "            \n",
    "            W = 64 * (pix1 - pix2)\n",
    "            \n",
    "            dst[y][x] = W\n",
    "\n",
    "    return dst\n",
    "\n",
    "img1 = cv2.imread('skytree.png',0)\n",
    "img2 = cv2.imread('Character.png',0)\n",
    "\n",
    "hiding = makehide(img1, img2)\n",
    "cv2.imwrite(\"hide.png\", hiding)\n",
    "get = gethide(hiding, img1)\n",
    "cv2.imwrite(\"get.png\", get)"
   ]
  },
  {
   "cell_type": "code",
   "execution_count": null,
   "id": "painted-bullet",
   "metadata": {},
   "outputs": [],
   "source": []
  },
  {
   "cell_type": "code",
   "execution_count": null,
   "id": "encouraging-cisco",
   "metadata": {},
   "outputs": [],
   "source": []
  },
  {
   "cell_type": "code",
   "execution_count": null,
   "id": "center-fifteen",
   "metadata": {},
   "outputs": [],
   "source": []
  }
 ],
 "metadata": {
  "kernelspec": {
   "display_name": "Python 3",
   "language": "python",
   "name": "python3"
  },
  "language_info": {
   "codemirror_mode": {
    "name": "ipython",
    "version": 3
   },
   "file_extension": ".py",
   "mimetype": "text/x-python",
   "name": "python",
   "nbconvert_exporter": "python",
   "pygments_lexer": "ipython3",
   "version": "3.9.1"
  }
 },
 "nbformat": 4,
 "nbformat_minor": 5
}
