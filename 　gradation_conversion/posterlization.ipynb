{
 "cells": [
  {
   "cell_type": "code",
   "execution_count": 4,
   "metadata": {},
   "outputs": [
    {
     "data": {
      "text/plain": [
       "True"
      ]
     },
     "execution_count": 4,
     "metadata": {},
     "output_type": "execute_result"
    }
   ],
   "source": [
    "import cv2\n",
    "import numpy as np\n",
    "\n",
    "img = cv2.imread('lena_grayscale.jpg')\n",
    "\n",
    "def posterize(img, n):\n",
    "    x = np.arange(256)\n",
    "    \n",
    "    ibins = np.linspace(0, 255, n+1)\n",
    "    obins = np.linspace(0,255, n)\n",
    "    \n",
    "    num=np.digitize(x, ibins)-1\n",
    "    num[255] = n-1\n",
    "    \n",
    "    y = np.array(obins[num], dtype=int)\n",
    "    \n",
    "    pos = cv2.LUT(img, y)\n",
    "    return pos\n",
    "\n",
    "pos1 = posterize(img, 5)\n",
    "pos2 = posterize(img, 15)\n",
    "\n",
    "cv2.imwrite('image1.jpg', pos1)\n",
    "cv2.imwrite('image2.jpg', pos2)"
   ]
  },
  {
   "cell_type": "code",
   "execution_count": null,
   "metadata": {},
   "outputs": [],
   "source": []
  }
 ],
 "metadata": {
  "kernelspec": {
   "display_name": "Python 3",
   "language": "python",
   "name": "python3"
  },
  "language_info": {
   "codemirror_mode": {
    "name": "ipython",
    "version": 3
   },
   "file_extension": ".py",
   "mimetype": "text/x-python",
   "name": "python",
   "nbconvert_exporter": "python",
   "pygments_lexer": "ipython3",
   "version": "3.7.9"
  }
 },
 "nbformat": 4,
 "nbformat_minor": 4
}
